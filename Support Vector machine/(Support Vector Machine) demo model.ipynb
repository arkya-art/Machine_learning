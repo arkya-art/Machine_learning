{
 "cells": [
  {
   "cell_type": "code",
   "execution_count": 2,
   "metadata": {},
   "outputs": [
    {
     "name": "stderr",
     "output_type": "stream",
     "text": [
      "C:\\ProgramData\\Anaconda3\\lib\\site-packages\\sklearn\\utils\\deprecation.py:144: FutureWarning: The sklearn.datasets.samples_generator module is  deprecated in version 0.22 and will be removed in version 0.24. The corresponding classes / functions should instead be imported from sklearn.datasets. Anything that cannot be imported from sklearn.datasets is now part of the private API.\n",
      "  warnings.warn(message, FutureWarning)\n"
     ]
    },
    {
     "data": {
      "text/plain": [
       "SVC(C=1, break_ties=False, cache_size=200, class_weight=None, coef0=0.0,\n",
       "    decision_function_shape='ovr', degree=3, gamma='scale', kernel='linear',\n",
       "    max_iter=-1, probability=False, random_state=None, shrinking=True,\n",
       "    tol=0.001, verbose=False)"
      ]
     },
     "execution_count": 2,
     "metadata": {},
     "output_type": "execute_result"
    }
   ],
   "source": [
    "import numpy as np\n",
    "import matplotlib.pyplot as plt\n",
    "\n",
    "from sklearn import svm\n",
    "\n",
    "from sklearn.datasets.samples_generator import make_blobs\n",
    "#we can create our own data using make_blobs which generates gaussian blobs for clustering\n",
    "\n",
    "x,y = make_blobs(n_samples = 40, centers = 2 , random_state = 20)\n",
    "#if n_samples is int- then it equally divides pt. across cluster, here it creates 20 pt. for each cluster\n",
    "#if n_sample is array then each arr. elem. indicates no of sample per cluster\n",
    "\n",
    "#here in x we store 40 co.ord. val of x-axis and y axis and in y we store its color labels as 0/1\n",
    "\n",
    "clf = svm.SVC(kernel = 'linear', C=1)\n",
    "# here we are creting a linear SVM so all data points can easily be separated by simple st. hyperplane\n",
    "# C determines the regularization of parameters and strength  is inv. proportional to C\n",
    "\n",
    "clf.fit(x,y)\n",
    "# this creates our model with a hyperplane passing for max. margin b/w 2 support vectors\n"
   ]
  },
  {
   "cell_type": "code",
   "execution_count": 4,
   "metadata": {},
   "outputs": [
    {
     "data": {
      "image/png": "[encoded data removed]",
      "text/plain": [
       "<Figure size 432x288 with 1 Axes>"
      ]
     },
     "metadata": {
      "needs_background": "light"
     },
     "output_type": "display_data"
    }
   ],
   "source": [
    "#displaying the data using scatter-plot\n",
    "plt.scatter(x[:,0], x[:,1], c=y, s=30 , cmap = plt.cm.Paired)\n",
    "#using x[:,0] we are printing all x-coord. val and with x[:,1] all y-coord. val\n",
    "\n",
    "plt.show()"
   ]
  },
  {
   "cell_type": "code",
   "execution_count": 9,
   "metadata": {},
   "outputs": [
    {
     "name": "stdout",
     "output_type": "stream",
     "text": [
      "[[ 1.71842122  9.52190711]\n",
      " [ 9.13204399  5.32194764]\n",
      " [ 8.68770841  7.79789319]\n",
      " [ 2.8137247   8.36064298]\n",
      " [ 7.27542879  6.31825811]\n",
      " [ 0.48311336  8.19998973]\n",
      " [ 7.9294032   6.08842852]\n",
      " [ 2.69548237 10.01411256]\n",
      " [ 2.26571286  8.36068903]\n",
      " [ 0.82767806  6.34128434]\n",
      " [ 0.87712287  6.84969507]\n",
      " [ 6.86839861  5.83429863]\n",
      " [ 0.97059923  7.11190662]\n",
      " [ 2.12015254  5.61101265]\n",
      " [ 2.88274828  9.28705277]\n",
      " [ 8.47704476  6.80415251]\n",
      " [ 7.61095347  7.8201477 ]\n",
      " [ 1.65359865  9.510461  ]\n",
      " [ 2.08607703  7.46086368]\n",
      " [ 9.92527993  6.67617854]\n",
      " [ 2.09222936  6.81774802]\n",
      " [ 1.59396992  4.76457177]\n",
      " [ 0.67778343  8.51397085]\n",
      " [ 7.86880706  7.3062361 ]\n",
      " [ 8.32405183  3.6123843 ]\n",
      " [ 8.35834306  6.47258777]\n",
      " [ 2.28968574  6.40317382]\n",
      " [ 6.34822954  5.46058533]\n",
      " [ 7.22830657  7.86147791]\n",
      " [ 8.47764867  6.90996676]\n",
      " [ 1.89139437  5.88732584]\n",
      " [ 8.26863909  7.67453856]\n",
      " [ 1.42412542  8.27524534]\n",
      " [ 2.70208537  6.97579352]\n",
      " [ 8.52161671  4.83102994]\n",
      " [ 7.00192182  6.43079715]\n",
      " [ 9.03512586  7.66854573]\n",
      " [ 1.51927726  7.82424385]\n",
      " [ 6.9758391   5.80360444]\n",
      " [ 7.59114483  6.77649377]]\n",
      "40\n",
      "[0 1 1 0 1 0 1 0 0 0 0 1 0 0 0 1 1 0 0 1 0 0 0 1 1 1 0 1 1 1 0 1 0 0 1 1 1\n",
      " 0 1 1]\n"
     ]
    }
   ],
   "source": [
    "print(x)\n",
    "print(len(x))\n",
    "print(y)"
   ]
  },
  {
   "cell_type": "code",
   "execution_count": 10,
   "metadata": {},
   "outputs": [
    {
     "name": "stdout",
     "output_type": "stream",
     "text": [
      "[0 1]\n"
     ]
    }
   ],
   "source": [
    "#using to predict unknown data\n",
    "newdata = [[3,4],[5,6]]\n",
    "print(clf.predict(newdata))"
   ]
  },
  {
   "cell_type": "markdown",
   "metadata": {},
   "source": [
    "### Backend working of hyperplane and margin"
   ]
  },
  {
   "cell_type": "code",
   "execution_count": 16,
   "metadata": {},
   "outputs": [
    {
     "data": {
      "image/png": "[encoded data removed]",
      "text/plain": [
       "<Figure size 432x288 with 1 Axes>"
      ]
     },
     "metadata": {
      "needs_background": "light"
     },
     "output_type": "display_data"
    }
   ],
   "source": [
    "#fit the model, dont regularize for illustration and creating the same scatterplot with hyperplane and margin\n",
    "clf = svm.SVC(kernel = 'linear', C=1000)\n",
    "clf.fit(x,y)\n",
    "plt.scatter(x[:,0], x[:,1], c=y, s=30 , cmap = plt.cm.Paired)\n",
    "\n",
    "#plot the decision function and we are using reference (ax) to done various thing in that same graph\n",
    "ax = plt.gca()\n",
    "xlim = ax.get_xlim()\n",
    "ylim = ax.get_ylim()\n",
    "\n",
    "#create grid to evaluate model\n",
    "xx = np.linspace(xlim[0], xlim[1], 30) #gives 30 evenly spaced pt. b/w 0th and 1st index\n",
    "yy = np.linspace(ylim[0], ylim[1], 30)\n",
    "\n",
    "XX,YY = np.meshgrid(yy,xx) # this creates fine grids between x,y 30 points\n",
    "\n",
    "xy = np.vstack([XX.ravel(), YY.ravel()]).T\n",
    "Z = clf.decision_function(xy).reshape(XX.shape)\n",
    "\n",
    "#plot decision boundary and margins\n",
    "ax.contour(XX, YY, Z, colors='k', levels = [-1,0,1], alpha=0.5, linestyles = ['--','-','--'])\n",
    "\n",
    "\n",
    "#plot support vectors\n",
    "ax.scatter(clf.support_vectors_[:,0], clf.support_vectors_[:,1], s=100, linewidth=10, facecolors = 'none')\n",
    "\n",
    "plt.show()"
   ]
  },
  {
   "cell_type": "code",
   "execution_count": null,
   "metadata": {},
   "outputs": [],
   "source": []
  }
 ],
 "metadata": {
  "kernelspec": {
   "display_name": "Python 3",
   "language": "python",
   "name": "python3"
  },
  "language_info": {
   "codemirror_mode": {
    "name": "ipython",
    "version": 3
   },
   "file_extension": ".py",
   "mimetype": "text/x-python",
   "name": "python",
   "nbconvert_exporter": "python",
   "pygments_lexer": "ipython3",
   "version": "3.7.6"
  }
 },
 "nbformat": 4,
 "nbformat_minor": 4
}
